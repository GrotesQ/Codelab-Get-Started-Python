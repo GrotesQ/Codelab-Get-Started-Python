{
 "cells": [
  {
   "cell_type": "code",
   "execution_count": 13,
   "metadata": {},
   "outputs": [
    {
     "name": "stdout",
     "output_type": "stream",
     "text": [
      "H2 태그 없음 : https://github.com/GrotesQ/Codelab-Get-Started-Python\n",
      "에러 발생! https://github.com/GrotesQ/Codelab-Get-Started-Python/404404404\n"
     ]
    }
   ],
   "source": [
    "import requests\n",
    "from bs4 import BeautifulSoup\n",
    "\n",
    "url = 'https://github.com/GrotesQ/Codelab-Get-Started-Python'\n",
    "response = requests.get( url )\n",
    "if response.status_code >= 400 :\n",
    "    print( '에러 발생! ' + url )\n",
    "    \n",
    "html = BeautifulSoup( response.content, 'html.parser' )\n",
    "h1 = html.find( 'h1' )\n",
    "if( h1 == None ) :\n",
    "    print( 'H1 태그 없음 : ' + url )\n",
    "    \n",
    "h2 = html.find( 'h2' )\n",
    "if( h2 == None ) :\n",
    "    print( 'H2 태그 없음 : ' + url )\n",
    "\n",
    "url = 'https://github.com/GrotesQ/Codelab-Get-Started-Python/tree/master/_documentations'\n",
    "response = requests.get( url )\n",
    "if response.status_code >= 400 :\n",
    "    print( '에러 발생! ' + url )\n",
    "\n",
    "url = 'https://github.com/GrotesQ/Codelab-Get-Started-Python/404404404'\n",
    "response = requests.get( url )\n",
    "if response.status_code >= 400 :\n",
    "    print( '에러 발생! ' + url )"
   ]
  },
  {
   "cell_type": "code",
   "execution_count": null,
   "metadata": {},
   "outputs": [],
   "source": []
  }
 ],
 "metadata": {
  "kernelspec": {
   "display_name": "Python 3",
   "language": "python",
   "name": "python3"
  },
  "language_info": {
   "codemirror_mode": {
    "name": "ipython",
    "version": 3
   },
   "file_extension": ".py",
   "mimetype": "text/x-python",
   "name": "python",
   "nbconvert_exporter": "python",
   "pygments_lexer": "ipython3",
   "version": "3.7.4"
  }
 },
 "nbformat": 4,
 "nbformat_minor": 2
}
