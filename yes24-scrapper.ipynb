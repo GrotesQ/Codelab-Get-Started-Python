{
 "cells": [
  {
   "cell_type": "code",
   "execution_count": 10,
   "metadata": {},
   "outputs": [],
   "source": [
    "import requests\n",
    "from bs4 import BeautifulSoup\n",
    "from datetime import datetime\n",
    "import pandas\n",
    "\n",
    "response = requests.get('http://www.yes24.com/searchcorner/Search?keywordAd=&keyword=&qdomain=%c0%fc%c3%bc&Wcode=001_005&query=%c6%c4%c0%cc%bd%e3&domain=BOOK&sort_gb=RECENT_DATE&scode=009_003')\n",
    "html = BeautifulSoup( response.content, 'html.parser' )\n",
    "goods_names = html.find_all( class_='goods_name' )\n",
    "goods_prices = html.find_all( class_='goods_price' )\n",
    "goods_infos = html.find_all( class_='goods_info')\n",
    "titles = []\n",
    "prices = []\n",
    "publish_at = []\n",
    "for name in goods_names :\n",
    "    titles.append( name.get_text().strip() )\n",
    "for price in goods_prices :\n",
    "    strong = price.find( 'strong' )\n",
    "    prices.append( strong.get_text().strip() )\n",
    "for info in goods_infos :\n",
    "    em = info.find( 'em' )\n",
    "    publish_at.append( em.get_text().strip() )\n",
    "\n",
    "data = pandas.DataFrame()\n",
    "data[ 'Title' ] = titles\n",
    "data[ 'Publish At' ] = publish_at\n",
    "data[ 'Price' ] = prices\n",
    "\n",
    "now = datetime.today().strftime('%Y%m%d-%H%M%S')\n",
    "data.to_excel( 'python-books-' + now + '.xls', index=False)"
   ]
  }
 ],
 "metadata": {
  "kernelspec": {
   "display_name": "Python 3",
   "language": "python",
   "name": "python3"
  },
  "language_info": {
   "codemirror_mode": {
    "name": "ipython",
    "version": 3
   },
   "file_extension": ".py",
   "mimetype": "text/x-python",
   "name": "python",
   "nbconvert_exporter": "python",
   "pygments_lexer": "ipython3",
   "version": "3.7.4"
  }
 },
 "nbformat": 4,
 "nbformat_minor": 2
}
