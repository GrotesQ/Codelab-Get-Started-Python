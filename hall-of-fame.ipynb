{
 "cells": [
  {
   "cell_type": "code",
   "execution_count": 9,
   "metadata": {},
   "outputs": [],
   "source": [
    "import requests\n",
    "from bs4 import BeautifulSoup\n",
    "import pandas\n",
    "from datetime import datetime\n",
    "\n",
    "response = requests.get('https://movie.naver.com/movie/sdb/rank/rmovie.nhn?sel=pnt&date=20191101')\n",
    "html = BeautifulSoup( response.content, 'html.parser' )\n",
    "titles = html.find_all( class_='tit5' )\n",
    "points = html.find_all( class_='point' )\n",
    "\n",
    "title_texts = []\n",
    "point_texts = []\n",
    "\n",
    "for title in titles :\n",
    "    title_texts.append( title.get_text() )\n",
    "for point in points :\n",
    "    point_texts.append( point.get_text() )\n",
    "\n",
    "data = pandas.DataFrame()\n",
    "data['영화명'] = title_texts\n",
    "data['평점'] = point_texts\n",
    "now = datetime.today().strftime('%Y-%m-%d %H%M%S')\n",
    "data.to_excel( 'hall-of-fame ' + now + '.xls', index=False)"
   ]
  }
 ],
 "metadata": {
  "kernelspec": {
   "display_name": "Python 3",
   "language": "python",
   "name": "python3"
  },
  "language_info": {
   "codemirror_mode": {
    "name": "ipython",
    "version": 3
   },
   "file_extension": ".py",
   "mimetype": "text/x-python",
   "name": "python",
   "nbconvert_exporter": "python",
   "pygments_lexer": "ipython3",
   "version": "3.7.4"
  }
 },
 "nbformat": 4,
 "nbformat_minor": 2
}
