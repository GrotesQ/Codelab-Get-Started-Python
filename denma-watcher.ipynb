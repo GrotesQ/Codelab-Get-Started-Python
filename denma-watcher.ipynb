{
 "cells": [
  {
   "cell_type": "code",
   "execution_count": 8,
   "metadata": {},
   "outputs": [
    {
     "name": "stdout",
     "output_type": "stream",
     "text": [
      "새로운 에피소드가 있는 것 같습니다 : 3-391화 2.에필로그(3-17)\n",
      "\n",
      "새로운 에피소드가 있는 것 같습니다 : 3-390화 2.에필로그(3-16)\n",
      "\n"
     ]
    }
   ],
   "source": [
    "from selenium import webdriver\n",
    "from bs4 import BeautifulSoup\n",
    "import time\n",
    "\n",
    "browser = webdriver.Chrome('/Users/unk/tools/chromedriver')\n",
    "browser.get('https://comic.naver.com/webtoon/list.nhn?titleId=119874')\n",
    "\n",
    "html = BeautifulSoup( browser.page_source, 'html.parser' )\n",
    "titles = html.find_all( class_='title' )\n",
    "\n",
    "try :\n",
    "    file = open( 'denma.txt', 'r' )\n",
    "    lines = file.readlines() # [ '제목1', '제목2', '제목3', '제목4', ... ]\n",
    "    file.close()\n",
    "except :\n",
    "    lines = []\n",
    "\n",
    "for title in titles :\n",
    "    get_text = title.get_text().strip() + '\\n'\n",
    "    try :\n",
    "        lines.index( get_text )\n",
    "    except :\n",
    "        print( '새로운 에피소드가 있는 것 같습니다 : ' + get_text )\n",
    "        file = open( 'denma.txt', 'a' )\n",
    "        file.write( get_text )\n",
    "        file.close()\n",
    "        \n",
    "browser.close()"
   ]
  },
  {
   "cell_type": "code",
   "execution_count": null,
   "metadata": {},
   "outputs": [],
   "source": []
  }
 ],
 "metadata": {
  "kernelspec": {
   "display_name": "Python 3",
   "language": "python",
   "name": "python3"
  },
  "language_info": {
   "codemirror_mode": {
    "name": "ipython",
    "version": 3
   },
   "file_extension": ".py",
   "mimetype": "text/x-python",
   "name": "python",
   "nbconvert_exporter": "python",
   "pygments_lexer": "ipython3",
   "version": "3.7.4"
  }
 },
 "nbformat": 4,
 "nbformat_minor": 2
}
