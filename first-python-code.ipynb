{
 "cells": [
  {
   "cell_type": "code",
   "execution_count": 25,
   "metadata": {
    "scrolled": true
   },
   "outputs": [],
   "source": [
    "file = open( 'test.txt', 'a' )\n",
    "file.write( 'Hello world\\n' )\n",
    "file.write( 'Hello python\\n' )\n",
    "file.close()"
   ]
  },
  {
   "cell_type": "markdown",
   "metadata": {},
   "source": [
    "변수\n",
    "\n",
    "- 선언자가 없음\n",
    "  - JS: let file\n",
    "  - Java: File file\n",
    "\n",
    "내장 함수 open\n",
    "\n",
    "- 파일을 생성하고/읽어옴\n",
    "  - 첫번째 인자: 경로 + 파일명\n",
    "  - 두번째 인자: 동작 모드. 쓰기 w 추가 a 읽기 r 기타 등등..\n",
    "\n",
    "write 함수\n",
    "\n",
    "close 함수\n",
    "\n",
    "- 읽기 혹은 쓰기를 종료"
   ]
  },
  {
   "cell_type": "code",
   "execution_count": 29,
   "metadata": {},
   "outputs": [
    {
     "name": "stdout",
     "output_type": "stream",
     "text": [
      "[1, 2, 3, 4]\n"
     ]
    }
   ],
   "source": [
    "number = 100\n",
    "string = 'Value'\n",
    "boolean = True\n",
    "array = [ 1, 2, 3 ]\n",
    "array = []\n",
    "array.append(1)\n",
    "array.append(2)\n",
    "array.append(3)\n",
    "array.append(4)\n",
    "print(array)"
   ]
  },
  {
   "cell_type": "markdown",
   "metadata": {},
   "source": [
    "주요 변수 타입 4종\n",
    "\n",
    "- 숫자\n",
    "- 문자열\n",
    "  - 따옴표로 감싸서 표시\n",
    "  - 100, '100'\n",
    "  - 문자, 문자열 구분 없음\n",
    "  - 홑따옴표, 쌍따옴표 구분 없음\n",
    "- 부울\n",
    "  - True / False\n",
    "  - 'True' / 'False' : 문자열\n",
    "- 배열\n",
    "  - 여러개의 데이터가 모인 것\n",
    "  \n",
    "내장함수 print\n",
    "\n",
    "어떤 값을 화면에 출력하기 위해 사용"
   ]
  }
 ],
 "metadata": {
  "kernelspec": {
   "display_name": "Python 3",
   "language": "python",
   "name": "python3"
  },
  "language_info": {
   "codemirror_mode": {
    "name": "ipython",
    "version": 3
   },
   "file_extension": ".py",
   "mimetype": "text/x-python",
   "name": "python",
   "nbconvert_exporter": "python",
   "pygments_lexer": "ipython3",
   "version": "3.7.4"
  }
 },
 "nbformat": 4,
 "nbformat_minor": 2
}
