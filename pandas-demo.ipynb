{
 "cells": [
  {
   "cell_type": "code",
   "execution_count": 12,
   "metadata": {},
   "outputs": [
    {
     "name": "stdout",
     "output_type": "stream",
     "text": [
      "   숫자 문자 한글\n",
      "0   1  a  한\n",
      "1   2  b  글\n",
      "2   3  c  입\n",
      "3   4  d  력\n",
      "4   5  e  얍\n",
      "   숫자 문자 한글\n",
      "0   1  a  한\n",
      "1   2  b  글\n",
      "2   3  c  입\n",
      "3   4  d  력\n",
      "4   5  e  얍\n"
     ]
    }
   ],
   "source": [
    "import pandas\n",
    "\n",
    "array = [ 1, 2, 3, 4, 5 ]\n",
    "strings = [ 'a', 'b', 'c', 'd', 'e' ]\n",
    "koreans = [ '한', '글', '입', '력', '얍' ]\n",
    "mixed = [ 1, 'a', True ]\n",
    "\n",
    "data = pandas.DataFrame()\n",
    "data[ '숫자' ] = array;\n",
    "data[ '문자' ] = strings;\n",
    "data[ '한글' ] = koreans;\n",
    "\n",
    "#print( data )\n",
    "\n",
    "data.to_csv( 'demo.csv', index=False )\n",
    "data.to_excel( 'demo.xls', encoding='utf-8-sig', index=False )\n",
    "#data.to_excel( 'demo.xls', encoding='cp949' )\n",
    "\n",
    "loadedCsv = pandas.read_csv( 'demo.csv' )\n",
    "loadedExcel = pandas.read_excel( 'demo.xls' )\n",
    "print(loadedCsv)\n",
    "print(loadedExcel)"
   ]
  }
 ],
 "metadata": {
  "kernelspec": {
   "display_name": "Python 3",
   "language": "python",
   "name": "python3"
  },
  "language_info": {
   "codemirror_mode": {
    "name": "ipython",
    "version": 3
   },
   "file_extension": ".py",
   "mimetype": "text/x-python",
   "name": "python",
   "nbconvert_exporter": "python",
   "pygments_lexer": "ipython3",
   "version": "3.7.4"
  }
 },
 "nbformat": 4,
 "nbformat_minor": 2
}
