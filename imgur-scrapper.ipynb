{
 "cells": [
  {
   "cell_type": "code",
   "execution_count": 2,
   "metadata": {},
   "outputs": [
    {
     "name": "stdout",
     "output_type": "stream",
     "text": [
      "검색어를 입력하세요cat\n"
     ]
    }
   ],
   "source": [
    "from bs4 import BeautifulSoup\n",
    "from selenium import webdriver\n",
    "import time\n",
    "import urllib.request\n",
    "\n",
    "keyword = input('검색어를 입력하세요')\n",
    "browser = webdriver.Chrome('/Users/unk/tools/chromedriver')\n",
    "browser.get( 'https://imgur.com/search/score?q=' + keyword )\n",
    "\n",
    "html = BeautifulSoup( browser.page_source, 'html.parser' )\n",
    "items = html.find_all( class_='image-list-link' )\n",
    "paths = []\n",
    "\n",
    "for item in items :\n",
    "    path = item.find( 'img' )[ 'src' ]\n",
    "    paths.append( path )\n",
    "\n",
    "for path in paths :\n",
    "    name = path.split( '/' )[ -1 ]\n",
    "    try :\n",
    "        urllib.request.urlretrieve( 'https:' + path, name )\n",
    "    except :\n",
    "        print( '로드 실패 : ' + path )\n",
    "\n",
    "browser.close()"
   ]
  },
  {
   "cell_type": "code",
   "execution_count": null,
   "metadata": {},
   "outputs": [],
   "source": []
  }
 ],
 "metadata": {
  "kernelspec": {
   "display_name": "Python 3",
   "language": "python",
   "name": "python3"
  },
  "language_info": {
   "codemirror_mode": {
    "name": "ipython",
    "version": 3
   },
   "file_extension": ".py",
   "mimetype": "text/x-python",
   "name": "python",
   "nbconvert_exporter": "python",
   "pygments_lexer": "ipython3",
   "version": "3.7.4"
  }
 },
 "nbformat": 4,
 "nbformat_minor": 2
}
