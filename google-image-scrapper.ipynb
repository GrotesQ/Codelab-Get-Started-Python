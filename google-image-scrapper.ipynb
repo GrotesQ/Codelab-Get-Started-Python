{
 "cells": [
  {
   "cell_type": "code",
   "execution_count": 1,
   "metadata": {},
   "outputs": [
    {
     "name": "stdout",
     "output_type": "stream",
     "text": [
      "검색어를 입력하세요서핑\n"
     ]
    }
   ],
   "source": [
    "from bs4 import BeautifulSoup\n",
    "from selenium import webdriver\n",
    "import time\n",
    "import urllib.request\n",
    "\n",
    "keyword = input('검색어를 입력하세요')\n",
    "browser = webdriver.Chrome('/Users/unk/tools/chromedriver')\n",
    "browser.get( 'https://www.google.co.kr/imghp' )\n",
    "\n",
    "search_input = browser.find_element_by_class_name( 'gLFyf' )\n",
    "search_input.send_keys( keyword )\n",
    "search_input.submit()\n",
    "time.sleep( 2 )\n",
    "\n",
    "html = BeautifulSoup( browser.page_source, 'html.parser' )\n",
    "html.find( id='isr_mc' )"
   ]
  },
  {
   "cell_type": "code",
   "execution_count": null,
   "metadata": {},
   "outputs": [],
   "source": []
  }
 ],
 "metadata": {
  "kernelspec": {
   "display_name": "Python 3",
   "language": "python",
   "name": "python3"
  },
  "language_info": {
   "codemirror_mode": {
    "name": "ipython",
    "version": 3
   },
   "file_extension": ".py",
   "mimetype": "text/x-python",
   "name": "python",
   "nbconvert_exporter": "python",
   "pygments_lexer": "ipython3",
   "version": "3.7.4"
  }
 },
 "nbformat": 4,
 "nbformat_minor": 2
}
