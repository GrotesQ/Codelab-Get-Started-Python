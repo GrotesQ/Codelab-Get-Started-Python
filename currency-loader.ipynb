{
 "cells": [
  {
   "cell_type": "code",
   "execution_count": 21,
   "metadata": {},
   "outputs": [],
   "source": [
    "import requests\n",
    "from bs4 import BeautifulSoup\n",
    "from datetime import datetime\n",
    "import pandas\n",
    "import os\n",
    "\n",
    "response = requests.get('https://search.naver.com/search.naver?sm=top_hty&fbm=1&ie=utf8&query=%EB%8B%AC%EB%9F%AC+%ED%99%98%EC%9C%A8')\n",
    "html = BeautifulSoup( response.content, 'html.parser' )\n",
    "spt_con = html.find( class_='spt_con' )\n",
    "strong = spt_con.find( 'strong' )\n",
    "currency = strong.get_text()\n",
    "now = datetime.today().strftime('%Y-%m-%d %H:%M:%S')\n",
    "\n",
    "# file = open( 'currencies.txt', 'a' )\n",
    "# file.write( now + ' ' + currency + '\\n' )\n",
    "# file.close()\n",
    "\n",
    "# currencies.xls 가 없을때\n",
    "    # 신규로 빈 파일을 생성\n",
    "\n",
    "# 파일 로드\n",
    "# 오늘 데이터를 기존 파일에 추가\n",
    "\n",
    "if( os.path.exists('currencies.xls') == False ) :\n",
    "    # 조건에 해당하는 경우 실행할 블록이 한 탭 안에서 기술된다\n",
    "    data = pandas.DataFrame()\n",
    "    data.to_excel('currencies.xls', index=False)\n",
    "\n",
    "# 다시 기존 위치에서 작성되는 코드는 조건문 이후 실행된다\n",
    "data = pandas.read_excel( 'currencies.xls' )\n",
    "# 새 데이터 프레임 생성\n",
    "newData = pandas.DataFrame()\n",
    "newData[ 'dates' ] = [ now ]\n",
    "newData[ 'us' ] = [ currency ]\n",
    "# 읽어온 데이터와 새 데이터를 병합\n",
    "data = data.append( newData )\n",
    "data.to_excel( 'currencies.xls', index=False )"
   ]
  }
 ],
 "metadata": {
  "kernelspec": {
   "display_name": "Python 3",
   "language": "python",
   "name": "python3"
  },
  "language_info": {
   "codemirror_mode": {
    "name": "ipython",
    "version": 3
   },
   "file_extension": ".py",
   "mimetype": "text/x-python",
   "name": "python",
   "nbconvert_exporter": "python",
   "pygments_lexer": "ipython3",
   "version": "3.7.4"
  }
 },
 "nbformat": 4,
 "nbformat_minor": 2
}
