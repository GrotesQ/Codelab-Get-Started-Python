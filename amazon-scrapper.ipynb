{
 "cells": [
  {
   "cell_type": "code",
   "execution_count": 6,
   "metadata": {},
   "outputs": [
    {
     "name": "stdout",
     "output_type": "stream",
     "text": [
      "Sabrent 512GB Rocket NVMe PCIe M.2 2280 Internal SSD High Performance Solid State Drive (SB-ROCKET-512)\n",
      "Silicon Power 256GB SSD 3D NAND A55 SLC Cache Performance Boost SATA III 2.5\" 7mm (0.28\") Internal Solid State Drive (SP256GBSS3A55S25)\n",
      "SanDisk SSD PLUS 480GB Internal SSD - SATA III 6 Gb/s, 2.5 Inch /7 Millimeter, Up to 535 MB/s - SDSSDA-480G-G26\n",
      "Crucial MX500 1TB 3D NAND SATA 2.5 Inch Internal SSD - CT1000MX500SSD1(Z)\n",
      "SanDisk 2TB Extreme Portable External SSD - Up to 550MB/s - USB-C, USB 3.1 - SDSSDE60-2T00-G25\n",
      "Kingston 120GB A400 SATA 3 2.5\" Internal SSD SA400S37/120G - HDD Replacement for Increase Performance\n",
      "Samsung 860 QVO 1TB Solid State Drive (MZ-76Q1T0) V-NAND, SATA 6Gb/s, Quality and Value Optimized SSD\n",
      "Silicon Power 512GB SSD 3D NAND A55 SLC Cache Performance Boost SATA III 2.5\" 7mm (0.28\") Internal Solid State Drive (SP512GBSS3A55S25)\n",
      "ADATA SU635 240GB 3D-NAND QLC SATA 2.5 Inch Internal SSD (ASU635SS-240GQ-R)\n",
      "WD_Black SN750 2TB NVMe Internal Gaming SSD - Gen3 PCIe, M.2 2280, 3D NAND, Up to 3400 MB/s - WDS200T3X0C\n",
      "Silicon Power 256GB SSD 3D NAND A55 SLC Cache Performance Boost SATA III 2.5\" 7mm (0.28\") Internal Solid State Drive (SP256GBSS3A55S25)\n",
      "Samsung 970 EVO SSD 1TB - M.2 NVMe Interface Internal Solid State Drive with V-NAND Technology (MZ-V7E1T0BW)\n",
      "WD Blue 3D NAND 500GB Internal PC SSD - SATA III 6 Gb/s, 2.5\"/7mm, Up to 560 MB/s - WDS500G2B0A\n",
      "Crucial BX500 240GB 3D NAND SATA 2.5-Inch Internal SSD - CT240BX500SSD1Z\n",
      "StarTech.com M.2 SSD to 2.5in SATA Adapter - M.2 NGFF to SATA Converter - 7mm - Open-Frame Bracket - M2 Hard Drive Adapter (SAT32M225)\n",
      "SanDisk SSD PLUS 1TB Internal SSD - SATA III 6 Gb/s, 2.5\"/7mm, Up to 535 MB/s - SDSSDA-1T00-G26\n",
      "Crucial MX500 1TB 3D NAND SATA 2.5 Inch Internal SSD - CT1000MX500SSD1(Z)\n",
      "Samsung T5 Portable SSD - 1TB - USB 3.1 External SSD (MU-PA1T0B/AM)\n",
      "Crucial P1 1TB 3D NAND NVMe PCIe M.2 SSD - CT1000P1SSD8\n",
      "KESU External SSD 512G, Portable Solid State Drive, USB 3.1 Gen 2,540M/s, External Storage Compatible for Mac, Latop, Desktop, Tablet, Android Phones\n",
      "Silicon Power 1TB SSD 3D NAND A55 SLC Cache Performance Boost SATA III 2.5\" 7mm (0.28\") Internal Solid State Drive (SP001TBSS3A55S25)\n",
      "SanDisk 1TB Extreme Portable External SSD - Up to 550MB/s - USB-C, USB 3.1 - SDSSDE60-1T00-G25\n",
      "PNY CS900 120GB 2.5” SATA III Internal Solid State Drive (SSD) - (SSD7CS900-120-RB)\n",
      "Samsung SSD 860 EVO 1TB 2.5 Inch SATA III Internal SSD (MZ-76E1T0B/AM)\n",
      "BUSlink 2TB USB 3.0 Disk-On-Go Portable SSD Drive\n",
      "WEme USB 3.0 to SATA Converter Adapter for 2.5 3.5 Inch Hard Drive Disk SSD HDD, Power Adapter and USB 3.0 Cable Included\n"
     ]
    }
   ],
   "source": [
    "from selenium import webdriver\n",
    "from bs4 import BeautifulSoup\n",
    "\n",
    "path = '/Users/unk/tools/chromedriver'\n",
    "# path = 'c:/tools/chromedriver.exe'\n",
    "browser = webdriver.Chrome( path )\n",
    "browser.get( 'https://www.amazon.com/s?k=ssd&ref=nb_sb_noss_2' )\n",
    "\n",
    "html = BeautifulSoup( browser.page_source, 'html.parser' )\n",
    "section = html.find( class_='s-result-list' )\n",
    "h2s = section.find_all( 'h2' )\n",
    "\n",
    "for h2 in h2s :\n",
    "    print( h2.get_text().strip() )\n",
    "\n",
    "browser.close()"
   ]
  }
 ],
 "metadata": {
  "kernelspec": {
   "display_name": "Python 3",
   "language": "python",
   "name": "python3"
  },
  "language_info": {
   "codemirror_mode": {
    "name": "ipython",
    "version": 3
   },
   "file_extension": ".py",
   "mimetype": "text/x-python",
   "name": "python",
   "nbconvert_exporter": "python",
   "pygments_lexer": "ipython3",
   "version": "3.7.4"
  }
 },
 "nbformat": 4,
 "nbformat_minor": 2
}
