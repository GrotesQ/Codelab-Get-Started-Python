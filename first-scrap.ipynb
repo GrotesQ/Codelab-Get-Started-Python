{
 "cells": [
  {
   "cell_type": "code",
   "execution_count": 7,
   "metadata": {},
   "outputs": [
    {
     "name": "stdout",
     "output_type": "stream",
     "text": [
      "1,167.00\n"
     ]
    }
   ],
   "source": [
    "import requests\n",
    "from bs4 import BeautifulSoup\n",
    "\n",
    "response = requests.get('https://search.naver.com/search.naver?sm=top_hty&fbm=1&ie=utf8&query=%EB%8B%AC%EB%9F%AC+%ED%99%98%EC%9C%A8')\n",
    "html = BeautifulSoup( response.content, 'html.parser' )\n",
    "spt_con = html.find( class_='spt_con' )\n",
    "strong = spt_con.find( 'strong' )\n",
    "print( strong.get_text() )"
   ]
  },
  {
   "cell_type": "markdown",
   "metadata": {},
   "source": [
    "파싱\n",
    "\n",
    "BeautifulSoup( '분석할 컨텐츠', '분석 라이브러리' ) # 분석 라이브러리 html.parser, lxml ...\n",
    "\n",
    ".find # document.querySelector # 조건에 맞는 검색을 한 후 첫번째 결과를 가져옴\n",
    ".find( class='spt_con' ) # 클래스 탐색\n",
    ".find( 'strong' ) # 태그 탐색\n",
    ".find( id='some_id' ) # 아이디 탐색"
   ]
  }
 ],
 "metadata": {
  "kernelspec": {
   "display_name": "Python 3",
   "language": "python",
   "name": "python3"
  },
  "language_info": {
   "codemirror_mode": {
    "name": "ipython",
    "version": 3
   },
   "file_extension": ".py",
   "mimetype": "text/x-python",
   "name": "python",
   "nbconvert_exporter": "python",
   "pygments_lexer": "ipython3",
   "version": "3.7.4"
  }
 },
 "nbformat": 4,
 "nbformat_minor": 2
}
